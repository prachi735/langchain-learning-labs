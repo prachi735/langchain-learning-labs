{
 "cells": [
  {
   "cell_type": "code",
   "execution_count": 1,
   "id": "6fce18a4",
   "metadata": {},
   "outputs": [],
   "source": [
    "import getpass\n",
    "import os\n",
    "from dotenv import load_dotenv\n",
    "\n",
    "load_dotenv()\n",
    "\n",
    "os.environ[\"LANGSMITH_TRACING\"] = \"true\"\n",
    "\n",
    "if \"LANGSMITH_API_KEY\" not in os.environ:\n",
    "    os.environ[\"LANGSMITH_API_KEY\"] = getpass.getpass(\n",
    "        prompt=\"Enter your LangSmith API Key (optional):\"\n",
    "    )\n",
    "\n",
    "if \"LANGSMITH_PROJECT\" not in os.environ:\n",
    "    os.environ[\"LANGSMITH_PROJECT\"] = getpass.getpass(\n",
    "        prompt=\"Enter your LangSmith Project Name (default = 'default'):\"\n",
    "    )\n",
    "    if not os.environ.get(\"LANGSMITH_PROJECT\"):\n",
    "        os.environ[\"LANGSMITH_PROJECT\"] = \"default\"\n",
    "\n",
    "if not os.environ.get(\"COHERE_API_KEY\"):\n",
    "  os.environ[\"COHERE_API_KEY\"] = getpass.getpass(\"Enter API key for Cohere: \")\n",
    "\n",
    "if not os.environ.get(\"TAVILY_API_KEY\"):\n",
    "  os.environ[\"TAVILY_API_KEY\"] = getpass.getpass(\"Enter API key for Tavily: \")\n"
   ]
  },
  {
   "cell_type": "code",
   "execution_count": 5,
   "id": "6174e379",
   "metadata": {},
   "outputs": [
    {
     "name": "stdout",
     "output_type": "stream",
     "text": [
      "[{'title': 'Weather in San Francisco in June 2025 (California)', 'url': 'https://world-weather.info/forecast/usa/san_francisco/june-2025/', 'content': '*   [16 +68° +57°](https://world-weather.info/forecast/usa/san_francisco/14days/#2025-06-16)\\n*   17 +70°\\n+59°', 'score': 0.9521889}, {'title': 'San Francisco weather in June 2025 | Weather25.com', 'url': 'https://www.weather25.com/north-america/usa/california/san-francisco?page=month&month=June', 'content': '15°/12°](https://www.weather25.com/north-america/usa/california/san-francisco?page=day#date=2025-06-15)[Monday Jun 16 ![Image 13: Overcast](https://res.weather25.com/images/weather_icons/new/day/overcast.svg) 0 mm 15°/12°](https://www.weather25.com/north-america/usa/california/san-francisco?page=day#date=2025-06-16)[Tuesday Jun 17 ![Image 14: Sunny](https://res.weather25.com/images/weather_icons/new/day/sunny.svg) 0 mm [...] 16°/12°](https://www.weather25.com/north-america/usa/california/san-francisco?page=day#date=2025-06-17)[Wednesday Jun 18 ![Image 15: Sunny](https://res.weather25.com/images/weather_icons/new/day/sunny.svg) 0 mm 18°/12°](https://www.weather25.com/north-america/usa/california/san-francisco?page=day#date=2025-06-18)[Thursday Jun 19 ![Image 16: Sunny](https://res.weather25.com/images/weather_icons/new/day/sunny.svg) 0 mm', 'score': 0.933969}]\n"
     ]
    }
   ],
   "source": [
    "from langchain_community.tools.tavily_search import TavilySearchResults\n",
    "\n",
    "search = TavilySearchResults(max_results=2)\n",
    "search_results = search.invoke('What is weather in SF')\n",
    "print(search_results)\n",
    "\n",
    "tools = [search]"
   ]
  },
  {
   "cell_type": "code",
   "execution_count": 6,
   "id": "958f25ea",
   "metadata": {},
   "outputs": [
    {
     "data": {
      "text/plain": [
       "'Hello! How can I help you today?'"
      ]
     },
     "execution_count": 6,
     "metadata": {},
     "output_type": "execute_result"
    }
   ],
   "source": [
    "from langchain.chat_models import init_chat_model\n",
    "from langchain_core.messages import HumanMessage, AIMessage\n",
    "\n",
    "model = init_chat_model(\"command-r-plus\", model_provider='cohere')\n",
    "response = model.invoke([HumanMessage(content=\"hi!\")])\n",
    "response.content"
   ]
  },
  {
   "cell_type": "code",
   "execution_count": 7,
   "id": "2c214c51",
   "metadata": {},
   "outputs": [],
   "source": [
    "model_with_tools = model.bind_tools(tools)"
   ]
  },
  {
   "cell_type": "code",
   "execution_count": 8,
   "id": "abee8873",
   "metadata": {},
   "outputs": [
    {
     "name": "stdout",
     "output_type": "stream",
     "text": [
      "Hello! How can I help?\n",
      "[]\n"
     ]
    }
   ],
   "source": [
    "response = model_with_tools.invoke([HumanMessage('Hi')])\n",
    "print(response.content)\n",
    "print(response.tool_calls)"
   ]
  },
  {
   "cell_type": "code",
   "execution_count": 9,
   "id": "a725dd28",
   "metadata": {},
   "outputs": [
    {
     "name": "stdout",
     "output_type": "stream",
     "text": [
      "I will search for the weather in San Francisco and write an answer based on what I find.\n",
      "[{'name': 'tavily_search_results_json', 'args': {'query': 'weather in SF'}, 'id': 'tavily_search_results_json_rnb5ydyv33c7', 'type': 'tool_call'}]\n"
     ]
    }
   ],
   "source": [
    "response = model_with_tools.invoke([HumanMessage('What is weather in SF')])\n",
    "print(response.content)\n",
    "print(response.tool_calls)"
   ]
  },
  {
   "cell_type": "code",
   "execution_count": 10,
   "id": "125fc8c9",
   "metadata": {},
   "outputs": [],
   "source": [
    "from langgraph.prebuilt import create_react_agent\n",
    "\n",
    "agent_executor = create_react_agent(model, tools)"
   ]
  },
  {
   "cell_type": "code",
   "execution_count": 12,
   "id": "367170ae",
   "metadata": {},
   "outputs": [
    {
     "data": {
      "text/plain": [
       "{'messages': [HumanMessage(content='Hi', additional_kwargs={}, response_metadata={}, id='c7ab0ee7-5654-4781-a7c1-ebea923010ae'),\n",
       "  AIMessage(content='Hello! How can I help?', additional_kwargs={'id': 'f66a5c99-293c-4fdd-9acd-47c29bce7647', 'finish_reason': 'COMPLETE', 'content': 'Hello! How can I help?', 'token_count': {'input_tokens': 979.0, 'output_tokens': 33.0}}, response_metadata={'id': 'f66a5c99-293c-4fdd-9acd-47c29bce7647', 'finish_reason': 'COMPLETE', 'content': 'Hello! How can I help?', 'token_count': {'input_tokens': 979.0, 'output_tokens': 33.0}}, id='run--3474c26e-40ef-4df5-8bbd-2c069dbd191a-0', usage_metadata={'input_tokens': 979, 'output_tokens': 33, 'total_tokens': 1012})]}"
      ]
     },
     "execution_count": 12,
     "metadata": {},
     "output_type": "execute_result"
    }
   ],
   "source": [
    "response = agent_executor.invoke(\n",
    "    {\"messages\": [HumanMessage('Hi')]}\n",
    "    )\n",
    "response"
   ]
  },
  {
   "cell_type": "code",
   "execution_count": 11,
   "id": "e37b7b6f",
   "metadata": {},
   "outputs": [
    {
     "data": {
      "text/plain": [
       "{'messages': [HumanMessage(content='What is weather in SF', additional_kwargs={}, response_metadata={}, id='fcd39d77-b06a-4f6d-8b67-5625f3e9cd9e'),\n",
       "  AIMessage(content='I will search for the weather in San Francisco and write an answer based on what I find.', additional_kwargs={'id': '7e56d84e-4e8c-4f88-a8c0-1cfbc054fe46', 'finish_reason': 'TOOL_CALL', 'tool_plan': 'I will search for the weather in San Francisco and write an answer based on what I find.', 'tool_calls': [{'id': 'tavily_search_results_json_9xx8pc69s2j6', 'type': 'function', 'function': {'name': 'tavily_search_results_json', 'arguments': '{\"query\":\"weather in SF\"}'}}], 'token_count': {'input_tokens': 928.0, 'output_tokens': 69.0}}, response_metadata={'id': '7e56d84e-4e8c-4f88-a8c0-1cfbc054fe46', 'finish_reason': 'TOOL_CALL', 'tool_plan': 'I will search for the weather in San Francisco and write an answer based on what I find.', 'tool_calls': [{'id': 'tavily_search_results_json_9xx8pc69s2j6', 'type': 'function', 'function': {'name': 'tavily_search_results_json', 'arguments': '{\"query\":\"weather in SF\"}'}}], 'token_count': {'input_tokens': 928.0, 'output_tokens': 69.0}}, id='run--97cfa937-c1bb-41ad-8cfd-971f0aee7581-0', tool_calls=[{'name': 'tavily_search_results_json', 'args': {'query': 'weather in SF'}, 'id': 'tavily_search_results_json_9xx8pc69s2j6', 'type': 'tool_call'}], usage_metadata={'input_tokens': 928, 'output_tokens': 69, 'total_tokens': 997}),\n",
       "  ToolMessage(content='[{\"title\": \"Monday, June 16, 2025. San Francisco, CA - Weather Forecast\", \"url\": \"https://weathershogun.com/weather/usa/ca/san-francisco/480/june/2025-06-16\", \"content\": \"San Francisco, California Weather: \\\\n\\\\nMonday, June 16, 2025\\\\n\\\\nDay 64°\\\\n\\\\nNight 54°\\\\n\\\\nPrecipitation 0 %\\\\n\\\\nWind 16 mph\\\\n\\\\nUV Index (0 - 11+)11\\\\n\\\\n[Tuesday](https://weathershogun.com/weather/usa/ca/san-francisco/480/june/2025-06-17) [...] Monday, June 16, 2025. San Francisco, CA - Weather Forecast \\\\n\\\\n===============\\\\n\\\\n☰\\\\n\\\\n[San Francisco, CA](https://weathershogun.com/weather/usa/ca/san-francisco/today/480)\\\\n\\\\n[![Image 1: WeatherShogun.com](https://weathershogun.com/img/logo.svg)](https://weathershogun.com/) [...] Last Year\\'s Weather on This Day (June 16, 2024)\\\\n\\\\n### Day\\\\n\\\\n66°\\\\n\\\\n### Night\\\\n\\\\n54°\\\\n\\\\nPlease note that while we strive for accuracy, the information provided may not always be correct. Use at your own risk.\\\\n\\\\n© Copyright by WeatherShogun.com\", \"score\": 0.9542783}, {\"title\": \"Weather in San Francisco in June 2025 (California)\", \"url\": \"https://world-weather.info/forecast/usa/san_francisco/june-2025/\", \"content\": \"*   [16 +68° +57°](https://world-weather.info/forecast/usa/san_francisco/14days/#2025-06-16)\\\\n*   17 +70°\\\\n+59°\", \"score\": 0.93525803}]', name='tavily_search_results_json', id='b94cc73a-4a64-4edb-81ae-e46d1cee1203', tool_call_id='tavily_search_results_json_9xx8pc69s2j6', artifact={'query': 'weather in SF', 'follow_up_questions': None, 'answer': None, 'images': [], 'results': [{'url': 'https://weathershogun.com/weather/usa/ca/san-francisco/480/june/2025-06-16', 'title': 'Monday, June 16, 2025. San Francisco, CA - Weather Forecast', 'content': \"San Francisco, California Weather: \\n\\nMonday, June 16, 2025\\n\\nDay 64°\\n\\nNight 54°\\n\\nPrecipitation 0 %\\n\\nWind 16 mph\\n\\nUV Index (0 - 11+)11\\n\\n[Tuesday](https://weathershogun.com/weather/usa/ca/san-francisco/480/june/2025-06-17) [...] Monday, June 16, 2025. San Francisco, CA - Weather Forecast \\n\\n===============\\n\\n☰\\n\\n[San Francisco, CA](https://weathershogun.com/weather/usa/ca/san-francisco/today/480)\\n\\n[![Image 1: WeatherShogun.com](https://weathershogun.com/img/logo.svg)](https://weathershogun.com/) [...] Last Year's Weather on This Day (June 16, 2024)\\n\\n### Day\\n\\n66°\\n\\n### Night\\n\\n54°\\n\\nPlease note that while we strive for accuracy, the information provided may not always be correct. Use at your own risk.\\n\\n© Copyright by WeatherShogun.com\", 'score': 0.9542783, 'raw_content': None}, {'url': 'https://world-weather.info/forecast/usa/san_francisco/june-2025/', 'title': 'Weather in San Francisco in June 2025 (California)', 'content': '*   [16 +68° +57°](https://world-weather.info/forecast/usa/san_francisco/14days/#2025-06-16)\\n*   17 +70°\\n+59°', 'score': 0.93525803, 'raw_content': None}], 'response_time': 2.6}),\n",
       "  AIMessage(content='The weather in San Francisco, California, is 64° during the day and 54° at night. There is 0% precipitation, 16 mph wind, and a UV index of 11.', additional_kwargs={'id': 'e728a2e6-1ee0-4da4-85dd-413d2c727cb1', 'finish_reason': 'COMPLETE', 'content': 'The weather in San Francisco, California, is 64° during the day and 54° at night. There is 0% precipitation, 16 mph wind, and a UV index of 11.', 'citations': [Citation(start=30, end=40, text='California', sources=[ToolSource(type='tool', id='tavily_search_results_json_9xx8pc69s2j6:0', tool_output={'output': '[{\"title\": \"Monday, June 16, 2025. San Francisco, CA - Weather Forecast\", \"url\": \"https://weathershogun.com/weather/usa/ca/san-francisco/480/june/2025-06-16\", \"content\": \"San Francisco, California Weather: \\\\n\\\\nMonday, June 16, 2025\\\\n\\\\nDay 64°\\\\n\\\\nNight 54°\\\\n\\\\nPrecipitation 0 %\\\\n\\\\nWind 16 mph\\\\n\\\\nUV Index (0 - 11+)11\\\\n\\\\n[Tuesday](https://weathershogun.com/weather/usa/ca/san-francisco/480/june/2025-06-17) [...] Monday, June 16, 2025. San Francisco, CA - Weather Forecast \\\\n\\\\n===============\\\\n\\\\n☰\\\\n\\\\n[San Francisco, CA](https://weathershogun.com/weather/usa/ca/san-francisco/today/480)\\\\n\\\\n[![Image 1: WeatherShogun.com](https://weathershogun.com/img/logo.svg)](https://weathershogun.com/) [...] Last Year\\'s Weather on This Day (June 16, 2024)\\\\n\\\\n### Day\\\\n\\\\n66°\\\\n\\\\n### Night\\\\n\\\\n54°\\\\n\\\\nPlease note that while we strive for accuracy, the information provided may not always be correct. Use at your own risk.\\\\n\\\\n© Copyright by WeatherShogun.com\", \"score\": 0.9542783}, {\"title\": \"Weather in San Francisco in June 2025 (California)\", \"url\": \"https://world-weather.info/forecast/usa/san_francisco/june-2025/\", \"content\": \"*   [16 +68° +57°](https://world-weather.info/forecast/usa/san_francisco/14days/#2025-06-16)\\\\n*   17 +70°\\\\n+59°\", \"score\": 0.93525803}]'})], type='TEXT_CONTENT'), Citation(start=45, end=63, text='64° during the day', sources=[ToolSource(type='tool', id='tavily_search_results_json_9xx8pc69s2j6:0', tool_output={'output': '[{\"title\": \"Monday, June 16, 2025. San Francisco, CA - Weather Forecast\", \"url\": \"https://weathershogun.com/weather/usa/ca/san-francisco/480/june/2025-06-16\", \"content\": \"San Francisco, California Weather: \\\\n\\\\nMonday, June 16, 2025\\\\n\\\\nDay 64°\\\\n\\\\nNight 54°\\\\n\\\\nPrecipitation 0 %\\\\n\\\\nWind 16 mph\\\\n\\\\nUV Index (0 - 11+)11\\\\n\\\\n[Tuesday](https://weathershogun.com/weather/usa/ca/san-francisco/480/june/2025-06-17) [...] Monday, June 16, 2025. San Francisco, CA - Weather Forecast \\\\n\\\\n===============\\\\n\\\\n☰\\\\n\\\\n[San Francisco, CA](https://weathershogun.com/weather/usa/ca/san-francisco/today/480)\\\\n\\\\n[![Image 1: WeatherShogun.com](https://weathershogun.com/img/logo.svg)](https://weathershogun.com/) [...] Last Year\\'s Weather on This Day (June 16, 2024)\\\\n\\\\n### Day\\\\n\\\\n66°\\\\n\\\\n### Night\\\\n\\\\n54°\\\\n\\\\nPlease note that while we strive for accuracy, the information provided may not always be correct. Use at your own risk.\\\\n\\\\n© Copyright by WeatherShogun.com\", \"score\": 0.9542783}, {\"title\": \"Weather in San Francisco in June 2025 (California)\", \"url\": \"https://world-weather.info/forecast/usa/san_francisco/june-2025/\", \"content\": \"*   [16 +68° +57°](https://world-weather.info/forecast/usa/san_francisco/14days/#2025-06-16)\\\\n*   17 +70°\\\\n+59°\", \"score\": 0.93525803}]'})], type='TEXT_CONTENT'), Citation(start=68, end=80, text='54° at night', sources=[ToolSource(type='tool', id='tavily_search_results_json_9xx8pc69s2j6:0', tool_output={'output': '[{\"title\": \"Monday, June 16, 2025. San Francisco, CA - Weather Forecast\", \"url\": \"https://weathershogun.com/weather/usa/ca/san-francisco/480/june/2025-06-16\", \"content\": \"San Francisco, California Weather: \\\\n\\\\nMonday, June 16, 2025\\\\n\\\\nDay 64°\\\\n\\\\nNight 54°\\\\n\\\\nPrecipitation 0 %\\\\n\\\\nWind 16 mph\\\\n\\\\nUV Index (0 - 11+)11\\\\n\\\\n[Tuesday](https://weathershogun.com/weather/usa/ca/san-francisco/480/june/2025-06-17) [...] Monday, June 16, 2025. San Francisco, CA - Weather Forecast \\\\n\\\\n===============\\\\n\\\\n☰\\\\n\\\\n[San Francisco, CA](https://weathershogun.com/weather/usa/ca/san-francisco/today/480)\\\\n\\\\n[![Image 1: WeatherShogun.com](https://weathershogun.com/img/logo.svg)](https://weathershogun.com/) [...] Last Year\\'s Weather on This Day (June 16, 2024)\\\\n\\\\n### Day\\\\n\\\\n66°\\\\n\\\\n### Night\\\\n\\\\n54°\\\\n\\\\nPlease note that while we strive for accuracy, the information provided may not always be correct. Use at your own risk.\\\\n\\\\n© Copyright by WeatherShogun.com\", \"score\": 0.9542783}, {\"title\": \"Weather in San Francisco in June 2025 (California)\", \"url\": \"https://world-weather.info/forecast/usa/san_francisco/june-2025/\", \"content\": \"*   [16 +68° +57°](https://world-weather.info/forecast/usa/san_francisco/14days/#2025-06-16)\\\\n*   17 +70°\\\\n+59°\", \"score\": 0.93525803}]'})], type='TEXT_CONTENT'), Citation(start=91, end=107, text='0% precipitation', sources=[ToolSource(type='tool', id='tavily_search_results_json_9xx8pc69s2j6:0', tool_output={'output': '[{\"title\": \"Monday, June 16, 2025. San Francisco, CA - Weather Forecast\", \"url\": \"https://weathershogun.com/weather/usa/ca/san-francisco/480/june/2025-06-16\", \"content\": \"San Francisco, California Weather: \\\\n\\\\nMonday, June 16, 2025\\\\n\\\\nDay 64°\\\\n\\\\nNight 54°\\\\n\\\\nPrecipitation 0 %\\\\n\\\\nWind 16 mph\\\\n\\\\nUV Index (0 - 11+)11\\\\n\\\\n[Tuesday](https://weathershogun.com/weather/usa/ca/san-francisco/480/june/2025-06-17) [...] Monday, June 16, 2025. San Francisco, CA - Weather Forecast \\\\n\\\\n===============\\\\n\\\\n☰\\\\n\\\\n[San Francisco, CA](https://weathershogun.com/weather/usa/ca/san-francisco/today/480)\\\\n\\\\n[![Image 1: WeatherShogun.com](https://weathershogun.com/img/logo.svg)](https://weathershogun.com/) [...] Last Year\\'s Weather on This Day (June 16, 2024)\\\\n\\\\n### Day\\\\n\\\\n66°\\\\n\\\\n### Night\\\\n\\\\n54°\\\\n\\\\nPlease note that while we strive for accuracy, the information provided may not always be correct. Use at your own risk.\\\\n\\\\n© Copyright by WeatherShogun.com\", \"score\": 0.9542783}, {\"title\": \"Weather in San Francisco in June 2025 (California)\", \"url\": \"https://world-weather.info/forecast/usa/san_francisco/june-2025/\", \"content\": \"*   [16 +68° +57°](https://world-weather.info/forecast/usa/san_francisco/14days/#2025-06-16)\\\\n*   17 +70°\\\\n+59°\", \"score\": 0.93525803}]'})], type='TEXT_CONTENT'), Citation(start=109, end=120, text='16 mph wind', sources=[ToolSource(type='tool', id='tavily_search_results_json_9xx8pc69s2j6:0', tool_output={'output': '[{\"title\": \"Monday, June 16, 2025. San Francisco, CA - Weather Forecast\", \"url\": \"https://weathershogun.com/weather/usa/ca/san-francisco/480/june/2025-06-16\", \"content\": \"San Francisco, California Weather: \\\\n\\\\nMonday, June 16, 2025\\\\n\\\\nDay 64°\\\\n\\\\nNight 54°\\\\n\\\\nPrecipitation 0 %\\\\n\\\\nWind 16 mph\\\\n\\\\nUV Index (0 - 11+)11\\\\n\\\\n[Tuesday](https://weathershogun.com/weather/usa/ca/san-francisco/480/june/2025-06-17) [...] Monday, June 16, 2025. San Francisco, CA - Weather Forecast \\\\n\\\\n===============\\\\n\\\\n☰\\\\n\\\\n[San Francisco, CA](https://weathershogun.com/weather/usa/ca/san-francisco/today/480)\\\\n\\\\n[![Image 1: WeatherShogun.com](https://weathershogun.com/img/logo.svg)](https://weathershogun.com/) [...] Last Year\\'s Weather on This Day (June 16, 2024)\\\\n\\\\n### Day\\\\n\\\\n66°\\\\n\\\\n### Night\\\\n\\\\n54°\\\\n\\\\nPlease note that while we strive for accuracy, the information provided may not always be correct. Use at your own risk.\\\\n\\\\n© Copyright by WeatherShogun.com\", \"score\": 0.9542783}, {\"title\": \"Weather in San Francisco in June 2025 (California)\", \"url\": \"https://world-weather.info/forecast/usa/san_francisco/june-2025/\", \"content\": \"*   [16 +68° +57°](https://world-weather.info/forecast/usa/san_francisco/14days/#2025-06-16)\\\\n*   17 +70°\\\\n+59°\", \"score\": 0.93525803}]'})], type='TEXT_CONTENT'), Citation(start=128, end=142, text='UV index of 11', sources=[ToolSource(type='tool', id='tavily_search_results_json_9xx8pc69s2j6:0', tool_output={'output': '[{\"title\": \"Monday, June 16, 2025. San Francisco, CA - Weather Forecast\", \"url\": \"https://weathershogun.com/weather/usa/ca/san-francisco/480/june/2025-06-16\", \"content\": \"San Francisco, California Weather: \\\\n\\\\nMonday, June 16, 2025\\\\n\\\\nDay 64°\\\\n\\\\nNight 54°\\\\n\\\\nPrecipitation 0 %\\\\n\\\\nWind 16 mph\\\\n\\\\nUV Index (0 - 11+)11\\\\n\\\\n[Tuesday](https://weathershogun.com/weather/usa/ca/san-francisco/480/june/2025-06-17) [...] Monday, June 16, 2025. San Francisco, CA - Weather Forecast \\\\n\\\\n===============\\\\n\\\\n☰\\\\n\\\\n[San Francisco, CA](https://weathershogun.com/weather/usa/ca/san-francisco/today/480)\\\\n\\\\n[![Image 1: WeatherShogun.com](https://weathershogun.com/img/logo.svg)](https://weathershogun.com/) [...] Last Year\\'s Weather on This Day (June 16, 2024)\\\\n\\\\n### Day\\\\n\\\\n66°\\\\n\\\\n### Night\\\\n\\\\n54°\\\\n\\\\nPlease note that while we strive for accuracy, the information provided may not always be correct. Use at your own risk.\\\\n\\\\n© Copyright by WeatherShogun.com\", \"score\": 0.9542783}, {\"title\": \"Weather in San Francisco in June 2025 (California)\", \"url\": \"https://world-weather.info/forecast/usa/san_francisco/june-2025/\", \"content\": \"*   [16 +68° +57°](https://world-weather.info/forecast/usa/san_francisco/14days/#2025-06-16)\\\\n*   17 +70°\\\\n+59°\", \"score\": 0.93525803}]'})], type='TEXT_CONTENT')], 'token_count': {'input_tokens': 1554.0, 'output_tokens': 176.0}}, response_metadata={'id': 'e728a2e6-1ee0-4da4-85dd-413d2c727cb1', 'finish_reason': 'COMPLETE', 'content': 'The weather in San Francisco, California, is 64° during the day and 54° at night. There is 0% precipitation, 16 mph wind, and a UV index of 11.', 'citations': [Citation(start=30, end=40, text='California', sources=[ToolSource(type='tool', id='tavily_search_results_json_9xx8pc69s2j6:0', tool_output={'output': '[{\"title\": \"Monday, June 16, 2025. San Francisco, CA - Weather Forecast\", \"url\": \"https://weathershogun.com/weather/usa/ca/san-francisco/480/june/2025-06-16\", \"content\": \"San Francisco, California Weather: \\\\n\\\\nMonday, June 16, 2025\\\\n\\\\nDay 64°\\\\n\\\\nNight 54°\\\\n\\\\nPrecipitation 0 %\\\\n\\\\nWind 16 mph\\\\n\\\\nUV Index (0 - 11+)11\\\\n\\\\n[Tuesday](https://weathershogun.com/weather/usa/ca/san-francisco/480/june/2025-06-17) [...] Monday, June 16, 2025. San Francisco, CA - Weather Forecast \\\\n\\\\n===============\\\\n\\\\n☰\\\\n\\\\n[San Francisco, CA](https://weathershogun.com/weather/usa/ca/san-francisco/today/480)\\\\n\\\\n[![Image 1: WeatherShogun.com](https://weathershogun.com/img/logo.svg)](https://weathershogun.com/) [...] Last Year\\'s Weather on This Day (June 16, 2024)\\\\n\\\\n### Day\\\\n\\\\n66°\\\\n\\\\n### Night\\\\n\\\\n54°\\\\n\\\\nPlease note that while we strive for accuracy, the information provided may not always be correct. Use at your own risk.\\\\n\\\\n© Copyright by WeatherShogun.com\", \"score\": 0.9542783}, {\"title\": \"Weather in San Francisco in June 2025 (California)\", \"url\": \"https://world-weather.info/forecast/usa/san_francisco/june-2025/\", \"content\": \"*   [16 +68° +57°](https://world-weather.info/forecast/usa/san_francisco/14days/#2025-06-16)\\\\n*   17 +70°\\\\n+59°\", \"score\": 0.93525803}]'})], type='TEXT_CONTENT'), Citation(start=45, end=63, text='64° during the day', sources=[ToolSource(type='tool', id='tavily_search_results_json_9xx8pc69s2j6:0', tool_output={'output': '[{\"title\": \"Monday, June 16, 2025. San Francisco, CA - Weather Forecast\", \"url\": \"https://weathershogun.com/weather/usa/ca/san-francisco/480/june/2025-06-16\", \"content\": \"San Francisco, California Weather: \\\\n\\\\nMonday, June 16, 2025\\\\n\\\\nDay 64°\\\\n\\\\nNight 54°\\\\n\\\\nPrecipitation 0 %\\\\n\\\\nWind 16 mph\\\\n\\\\nUV Index (0 - 11+)11\\\\n\\\\n[Tuesday](https://weathershogun.com/weather/usa/ca/san-francisco/480/june/2025-06-17) [...] Monday, June 16, 2025. San Francisco, CA - Weather Forecast \\\\n\\\\n===============\\\\n\\\\n☰\\\\n\\\\n[San Francisco, CA](https://weathershogun.com/weather/usa/ca/san-francisco/today/480)\\\\n\\\\n[![Image 1: WeatherShogun.com](https://weathershogun.com/img/logo.svg)](https://weathershogun.com/) [...] Last Year\\'s Weather on This Day (June 16, 2024)\\\\n\\\\n### Day\\\\n\\\\n66°\\\\n\\\\n### Night\\\\n\\\\n54°\\\\n\\\\nPlease note that while we strive for accuracy, the information provided may not always be correct. Use at your own risk.\\\\n\\\\n© Copyright by WeatherShogun.com\", \"score\": 0.9542783}, {\"title\": \"Weather in San Francisco in June 2025 (California)\", \"url\": \"https://world-weather.info/forecast/usa/san_francisco/june-2025/\", \"content\": \"*   [16 +68° +57°](https://world-weather.info/forecast/usa/san_francisco/14days/#2025-06-16)\\\\n*   17 +70°\\\\n+59°\", \"score\": 0.93525803}]'})], type='TEXT_CONTENT'), Citation(start=68, end=80, text='54° at night', sources=[ToolSource(type='tool', id='tavily_search_results_json_9xx8pc69s2j6:0', tool_output={'output': '[{\"title\": \"Monday, June 16, 2025. San Francisco, CA - Weather Forecast\", \"url\": \"https://weathershogun.com/weather/usa/ca/san-francisco/480/june/2025-06-16\", \"content\": \"San Francisco, California Weather: \\\\n\\\\nMonday, June 16, 2025\\\\n\\\\nDay 64°\\\\n\\\\nNight 54°\\\\n\\\\nPrecipitation 0 %\\\\n\\\\nWind 16 mph\\\\n\\\\nUV Index (0 - 11+)11\\\\n\\\\n[Tuesday](https://weathershogun.com/weather/usa/ca/san-francisco/480/june/2025-06-17) [...] Monday, June 16, 2025. San Francisco, CA - Weather Forecast \\\\n\\\\n===============\\\\n\\\\n☰\\\\n\\\\n[San Francisco, CA](https://weathershogun.com/weather/usa/ca/san-francisco/today/480)\\\\n\\\\n[![Image 1: WeatherShogun.com](https://weathershogun.com/img/logo.svg)](https://weathershogun.com/) [...] Last Year\\'s Weather on This Day (June 16, 2024)\\\\n\\\\n### Day\\\\n\\\\n66°\\\\n\\\\n### Night\\\\n\\\\n54°\\\\n\\\\nPlease note that while we strive for accuracy, the information provided may not always be correct. Use at your own risk.\\\\n\\\\n© Copyright by WeatherShogun.com\", \"score\": 0.9542783}, {\"title\": \"Weather in San Francisco in June 2025 (California)\", \"url\": \"https://world-weather.info/forecast/usa/san_francisco/june-2025/\", \"content\": \"*   [16 +68° +57°](https://world-weather.info/forecast/usa/san_francisco/14days/#2025-06-16)\\\\n*   17 +70°\\\\n+59°\", \"score\": 0.93525803}]'})], type='TEXT_CONTENT'), Citation(start=91, end=107, text='0% precipitation', sources=[ToolSource(type='tool', id='tavily_search_results_json_9xx8pc69s2j6:0', tool_output={'output': '[{\"title\": \"Monday, June 16, 2025. San Francisco, CA - Weather Forecast\", \"url\": \"https://weathershogun.com/weather/usa/ca/san-francisco/480/june/2025-06-16\", \"content\": \"San Francisco, California Weather: \\\\n\\\\nMonday, June 16, 2025\\\\n\\\\nDay 64°\\\\n\\\\nNight 54°\\\\n\\\\nPrecipitation 0 %\\\\n\\\\nWind 16 mph\\\\n\\\\nUV Index (0 - 11+)11\\\\n\\\\n[Tuesday](https://weathershogun.com/weather/usa/ca/san-francisco/480/june/2025-06-17) [...] Monday, June 16, 2025. San Francisco, CA - Weather Forecast \\\\n\\\\n===============\\\\n\\\\n☰\\\\n\\\\n[San Francisco, CA](https://weathershogun.com/weather/usa/ca/san-francisco/today/480)\\\\n\\\\n[![Image 1: WeatherShogun.com](https://weathershogun.com/img/logo.svg)](https://weathershogun.com/) [...] Last Year\\'s Weather on This Day (June 16, 2024)\\\\n\\\\n### Day\\\\n\\\\n66°\\\\n\\\\n### Night\\\\n\\\\n54°\\\\n\\\\nPlease note that while we strive for accuracy, the information provided may not always be correct. Use at your own risk.\\\\n\\\\n© Copyright by WeatherShogun.com\", \"score\": 0.9542783}, {\"title\": \"Weather in San Francisco in June 2025 (California)\", \"url\": \"https://world-weather.info/forecast/usa/san_francisco/june-2025/\", \"content\": \"*   [16 +68° +57°](https://world-weather.info/forecast/usa/san_francisco/14days/#2025-06-16)\\\\n*   17 +70°\\\\n+59°\", \"score\": 0.93525803}]'})], type='TEXT_CONTENT'), Citation(start=109, end=120, text='16 mph wind', sources=[ToolSource(type='tool', id='tavily_search_results_json_9xx8pc69s2j6:0', tool_output={'output': '[{\"title\": \"Monday, June 16, 2025. San Francisco, CA - Weather Forecast\", \"url\": \"https://weathershogun.com/weather/usa/ca/san-francisco/480/june/2025-06-16\", \"content\": \"San Francisco, California Weather: \\\\n\\\\nMonday, June 16, 2025\\\\n\\\\nDay 64°\\\\n\\\\nNight 54°\\\\n\\\\nPrecipitation 0 %\\\\n\\\\nWind 16 mph\\\\n\\\\nUV Index (0 - 11+)11\\\\n\\\\n[Tuesday](https://weathershogun.com/weather/usa/ca/san-francisco/480/june/2025-06-17) [...] Monday, June 16, 2025. San Francisco, CA - Weather Forecast \\\\n\\\\n===============\\\\n\\\\n☰\\\\n\\\\n[San Francisco, CA](https://weathershogun.com/weather/usa/ca/san-francisco/today/480)\\\\n\\\\n[![Image 1: WeatherShogun.com](https://weathershogun.com/img/logo.svg)](https://weathershogun.com/) [...] Last Year\\'s Weather on This Day (June 16, 2024)\\\\n\\\\n### Day\\\\n\\\\n66°\\\\n\\\\n### Night\\\\n\\\\n54°\\\\n\\\\nPlease note that while we strive for accuracy, the information provided may not always be correct. Use at your own risk.\\\\n\\\\n© Copyright by WeatherShogun.com\", \"score\": 0.9542783}, {\"title\": \"Weather in San Francisco in June 2025 (California)\", \"url\": \"https://world-weather.info/forecast/usa/san_francisco/june-2025/\", \"content\": \"*   [16 +68° +57°](https://world-weather.info/forecast/usa/san_francisco/14days/#2025-06-16)\\\\n*   17 +70°\\\\n+59°\", \"score\": 0.93525803}]'})], type='TEXT_CONTENT'), Citation(start=128, end=142, text='UV index of 11', sources=[ToolSource(type='tool', id='tavily_search_results_json_9xx8pc69s2j6:0', tool_output={'output': '[{\"title\": \"Monday, June 16, 2025. San Francisco, CA - Weather Forecast\", \"url\": \"https://weathershogun.com/weather/usa/ca/san-francisco/480/june/2025-06-16\", \"content\": \"San Francisco, California Weather: \\\\n\\\\nMonday, June 16, 2025\\\\n\\\\nDay 64°\\\\n\\\\nNight 54°\\\\n\\\\nPrecipitation 0 %\\\\n\\\\nWind 16 mph\\\\n\\\\nUV Index (0 - 11+)11\\\\n\\\\n[Tuesday](https://weathershogun.com/weather/usa/ca/san-francisco/480/june/2025-06-17) [...] Monday, June 16, 2025. San Francisco, CA - Weather Forecast \\\\n\\\\n===============\\\\n\\\\n☰\\\\n\\\\n[San Francisco, CA](https://weathershogun.com/weather/usa/ca/san-francisco/today/480)\\\\n\\\\n[![Image 1: WeatherShogun.com](https://weathershogun.com/img/logo.svg)](https://weathershogun.com/) [...] Last Year\\'s Weather on This Day (June 16, 2024)\\\\n\\\\n### Day\\\\n\\\\n66°\\\\n\\\\n### Night\\\\n\\\\n54°\\\\n\\\\nPlease note that while we strive for accuracy, the information provided may not always be correct. Use at your own risk.\\\\n\\\\n© Copyright by WeatherShogun.com\", \"score\": 0.9542783}, {\"title\": \"Weather in San Francisco in June 2025 (California)\", \"url\": \"https://world-weather.info/forecast/usa/san_francisco/june-2025/\", \"content\": \"*   [16 +68° +57°](https://world-weather.info/forecast/usa/san_francisco/14days/#2025-06-16)\\\\n*   17 +70°\\\\n+59°\", \"score\": 0.93525803}]'})], type='TEXT_CONTENT')], 'token_count': {'input_tokens': 1554.0, 'output_tokens': 176.0}}, id='run--8ffba228-18e9-4dbb-8ab0-b3908343a930-0', usage_metadata={'input_tokens': 1554, 'output_tokens': 176, 'total_tokens': 1730})]}"
      ]
     },
     "execution_count": 11,
     "metadata": {},
     "output_type": "execute_result"
    }
   ],
   "source": [
    "response = agent_executor.invoke(\n",
    "    {\"messages\": [HumanMessage('What is weather in SF')]}\n",
    "    )\n",
    "response"
   ]
  },
  {
   "cell_type": "code",
   "execution_count": 13,
   "id": "ccdfb8f8",
   "metadata": {},
   "outputs": [
    {
     "name": "stdout",
     "output_type": "stream",
     "text": [
      "================================\u001b[1m Human Message \u001b[0m=================================\n",
      "\n",
      "What is weather in SF\n",
      "==================================\u001b[1m Ai Message \u001b[0m==================================\n",
      "\n",
      "I will search for the weather in San Francisco and write an answer based on the results.\n",
      "Tool Calls:\n",
      "  tavily_search_results_json (tavily_search_results_json_cw6hm7yj597v)\n",
      " Call ID: tavily_search_results_json_cw6hm7yj597v\n",
      "  Args:\n",
      "    query: weather in SF\n",
      "=================================\u001b[1m Tool Message \u001b[0m=================================\n",
      "Name: tavily_search_results_json\n",
      "\n",
      "[{\"title\": \"Monday, June 16, 2025. San Francisco, CA - Weather Forecast\", \"url\": \"https://weathershogun.com/weather/usa/ca/san-francisco/480/june/2025-06-16\", \"content\": \"San Francisco, California Weather: \\n\\nMonday, June 16, 2025\\n\\nDay 64°\\n\\nNight 54°\\n\\nPrecipitation 0 %\\n\\nWind 16 mph\\n\\nUV Index (0 - 11+)11\\n\\n[Tuesday](https://weathershogun.com/weather/usa/ca/san-francisco/480/june/2025-06-17) [...] Monday, June 16, 2025. San Francisco, CA - Weather Forecast \\n\\n===============\\n\\n☰\\n\\n[San Francisco, CA](https://weathershogun.com/weather/usa/ca/san-francisco/today/480)\\n\\n[![Image 1: WeatherShogun.com](https://weathershogun.com/img/logo.svg)](https://weathershogun.com/) [...] Last Year's Weather on This Day (June 16, 2024)\\n\\n### Day\\n\\n66°\\n\\n### Night\\n\\n54°\\n\\nPlease note that while we strive for accuracy, the information provided may not always be correct. Use at your own risk.\\n\\n© Copyright by WeatherShogun.com\", \"score\": 0.9542783}, {\"title\": \"Weather in San Francisco in June 2025 (California)\", \"url\": \"https://world-weather.info/forecast/usa/san_francisco/june-2025/\", \"content\": \"*   [16 +68° +57°](https://world-weather.info/forecast/usa/san_francisco/14days/#2025-06-16)\\n*   17 +70°\\n+59°\", \"score\": 0.93525803}]\n",
      "==================================\u001b[1m Ai Message \u001b[0m==================================\n",
      "\n",
      "Today in San Francisco, it will be 64° during the day and 54° at night. There will be no precipitation and the wind speed will be 16 mph.\n"
     ]
    }
   ],
   "source": [
    "for step in agent_executor.stream(\n",
    "    {\"messages\": [HumanMessage('What is weather in SF')]},\n",
    "    stream_mode='values'\n",
    "):\n",
    "    step[\"messages\"][-1].pretty_print()"
   ]
  },
  {
   "cell_type": "code",
   "execution_count": 14,
   "id": "a27ec6fa",
   "metadata": {},
   "outputs": [
    {
     "name": "stdout",
     "output_type": "stream",
     "text": [
      "I| will| search| for| the| weather| in| San| Francisco| and| write| an| answer|.|It|'s| 6|4|°|F| in| San| Francisco| today|,| with| a| low| of| 5|4|°|F| tonight|.|"
     ]
    }
   ],
   "source": [
    "for step, metadata in agent_executor.stream(\n",
    "    {\"messages\": [HumanMessage(content=\"whats the weather in sf?\")]},\n",
    "    stream_mode=\"messages\",\n",
    "):\n",
    "    if metadata[\"langgraph_node\"] == \"agent\" and (text := step.text()):\n",
    "        print(text, end=\"|\")"
   ]
  },
  {
   "cell_type": "code",
   "execution_count": 16,
   "id": "f1ac4bf0",
   "metadata": {},
   "outputs": [],
   "source": [
    "from langgraph.checkpoint.memory import MemorySaver\n",
    "\n",
    "memory = MemorySaver()"
   ]
  },
  {
   "cell_type": "code",
   "execution_count": 17,
   "id": "99b25dd9",
   "metadata": {},
   "outputs": [],
   "source": [
    "agent_executor = create_react_agent(model, tools, checkpointer=memory)"
   ]
  },
  {
   "cell_type": "code",
   "execution_count": 18,
   "id": "8a395ca0",
   "metadata": {},
   "outputs": [],
   "source": [
    "config = {\"configurable\":{\"thread_id\":\"abc123\"}}"
   ]
  },
  {
   "cell_type": "code",
   "execution_count": 19,
   "metadata": {},
   "outputs": [
    {
     "name": "stdout",
     "output_type": "stream",
     "text": [
      "{'agent': {'messages': [AIMessage(content='Hi Bob! How can I help?', additional_kwargs={'id': '23796ad2-67e2-48bf-bc38-160cce728420', 'finish_reason': 'COMPLETE', 'content': 'Hi Bob! How can I help?', 'token_count': {'input_tokens': 982.0, 'output_tokens': 35.0}}, response_metadata={'id': '23796ad2-67e2-48bf-bc38-160cce728420', 'finish_reason': 'COMPLETE', 'content': 'Hi Bob! How can I help?', 'token_count': {'input_tokens': 982.0, 'output_tokens': 35.0}}, id='run--4b221bf6-a16f-411d-865e-95ec3c6e264f-0', usage_metadata={'input_tokens': 982, 'output_tokens': 35, 'total_tokens': 1017})]}}\n",
      "-----\n"
     ]
    }
   ],
   "source": [
    "for chunk in agent_executor.stream(\n",
    "    {\"messages\": [HumanMessage(content=\"hi I'm Bob\")]},\n",
    "    config\n",
    "):\n",
    "    print(chunk)\n",
    "    print(\"-----\")"
   ]
  },
  {
   "cell_type": "code",
   "execution_count": 20,
   "id": "1a7dda34",
   "metadata": {},
   "outputs": [
    {
     "name": "stdout",
     "output_type": "stream",
     "text": [
      "{'agent': {'messages': [AIMessage(content='Your name is Bob.', additional_kwargs={'id': 'c0bd2efd-2ef5-40ac-b432-3bcf996cb3a3', 'finish_reason': 'COMPLETE', 'content': 'Your name is Bob.', 'token_count': {'input_tokens': 999.0, 'output_tokens': 29.0}}, response_metadata={'id': 'c0bd2efd-2ef5-40ac-b432-3bcf996cb3a3', 'finish_reason': 'COMPLETE', 'content': 'Your name is Bob.', 'token_count': {'input_tokens': 999.0, 'output_tokens': 29.0}}, id='run--e77760b1-6967-429a-a91c-1fe64e4c2705-0', usage_metadata={'input_tokens': 999, 'output_tokens': 29, 'total_tokens': 1028})]}}\n",
      "----\n"
     ]
    }
   ],
   "source": [
    "for chunk in agent_executor.stream(\n",
    "    {\"messages\": [HumanMessage(content=\"whats my name?\")]}, config\n",
    "):\n",
    "    print(chunk)\n",
    "    print(\"----\")"
   ]
  },
  {
   "cell_type": "code",
   "execution_count": 21,
   "id": "221b0eba",
   "metadata": {},
   "outputs": [
    {
     "name": "stdout",
     "output_type": "stream",
     "text": [
      "{'agent': {'messages': [AIMessage(content=\"I don't know your name, I'm sorry.\", additional_kwargs={'id': 'f45926dd-604f-4739-a919-817135dd82b9', 'finish_reason': 'COMPLETE', 'content': \"I don't know your name, I'm sorry.\", 'token_count': {'input_tokens': 980.0, 'output_tokens': 41.0}}, response_metadata={'id': 'f45926dd-604f-4739-a919-817135dd82b9', 'finish_reason': 'COMPLETE', 'content': \"I don't know your name, I'm sorry.\", 'token_count': {'input_tokens': 980.0, 'output_tokens': 41.0}}, id='run--4207ad72-185f-4ac9-b901-5a2946f806ec-0', usage_metadata={'input_tokens': 980, 'output_tokens': 41, 'total_tokens': 1021})]}}\n",
      "----\n"
     ]
    }
   ],
   "source": [
    "config = {\"configurable\": {\"thread_id\": \"xyz123\"}}\n",
    "for chunk in agent_executor.stream(\n",
    "    {\"messages\": [HumanMessage(content=\"whats my name?\")]}, config\n",
    "):\n",
    "    print(chunk)\n",
    "    print(\"----\")"
   ]
  }
 ],
 "metadata": {
  "kernelspec": {
   "display_name": ".venv",
   "language": "python",
   "name": "python3"
  },
  "language_info": {
   "codemirror_mode": {
    "name": "ipython",
    "version": 3
   },
   "file_extension": ".py",
   "mimetype": "text/x-python",
   "name": "python",
   "nbconvert_exporter": "python",
   "pygments_lexer": "ipython3",
   "version": "3.11.9"
  }
 },
 "nbformat": 4,
 "nbformat_minor": 5
}
