{
 "cells": [
  {
   "cell_type": "code",
   "execution_count": 1,
   "id": "45718eca",
   "metadata": {},
   "outputs": [],
   "source": [
    "import getpass\n",
    "import os\n",
    "from dotenv import load_dotenv\n",
    "\n",
    "load_dotenv()\n",
    "\n",
    "os.environ[\"LANGSMITH_TRACING\"] = \"true\"\n",
    "\n",
    "if \"LANGSMITH_API_KEY\" not in os.environ:\n",
    "    os.environ[\"LANGSMITH_API_KEY\"] = getpass.getpass(\n",
    "        prompt=\"Enter your LangSmith API Key (optional):\"\n",
    "    )\n",
    "\n",
    "if \"LANGSMITH_PROJECT\" not in os.environ:\n",
    "    os.environ[\"LANGSMITH_PROJECT\"] = getpass.getpass(\n",
    "        prompt=\"Enter your LangSmith Project Name (default = 'default'):\"\n",
    "    )\n",
    "    if not os.environ.get(\"LANGSMITH_PROJECT\"):\n",
    "        os.environ[\"LANGSMITH_PROJECT\"] = \"default\"\n",
    "\n",
    "if not os.environ.get(\"COHERE_API_KEY\"):\n",
    "  os.environ[\"COHERE_API_KEY\"] = getpass.getpass(\"Enter API key for Cohere: \")"
   ]
  },
  {
   "cell_type": "code",
   "execution_count": null,
   "id": "d837f316",
   "metadata": {},
   "outputs": [
    {
     "name": "stdout",
     "output_type": "stream",
     "text": [
      "name='Alice Johnson' hair_color='black' height_in_meters='1.75' dummy_field='dummy_value'\n"
     ]
    }
   ],
   "source": [
    "# from langchain_core.pydantic_v1 import BaseModel, Field\n",
    "from pydantic import BaseModel, Field\n",
    "from typing import Optional\n",
    "from langchain.output_parsers import PydanticOutputParser\n",
    "from langchain_core.prompts import ChatPromptTemplate\n",
    "from langchain.chat_models import init_chat_model\n",
    "\n",
    "# 1. Define your extraction schema\n",
    "class Person(BaseModel):\n",
    "    name: Optional[str] = Field(default=None,description=\"{The full name of the person}\")\n",
    "    hair_color: Optional[str] = Field(default=None,description=\"The person's hair color\")\n",
    "    height_in_meters: Optional[str] = Field(default=None,description=\"The person's height in meters\")\n",
    "    dummy_required_field: str = Field(description=\"dummy field no action needed.\")\n",
    "\n",
    "# 2. Create an output parser\n",
    "parser = PydanticOutputParser(pydantic_object=Person)\n",
    "\n",
    "# 3. Prompt Template\n",
    "prompt = ChatPromptTemplate.from_messages([\n",
    "    (\"system\", \"You are an expert information extractor. Extract the following fields from the given input text. If any field is missing, use null. Respond in JSON format: {format_instructions}\"),\n",
    "    (\"human\", \"{text}\")\n",
    "]).partial(format_instructions=parser.get_format_instructions())\n",
    "\n",
    "# 4. Initialize Cohere LLM\n",
    "llm = init_chat_model(\"command-r-plus\", model_provider=\"cohere\")\n",
    "\n",
    "# 5. Create the chain\n",
    "chain = prompt | llm | parser\n",
    "\n",
    "# 6. Invoke with sample input\n",
    "input_text = \"Alice Johnson is 1.75 meters tall and has black hair.\"\n",
    "result = chain.invoke({\"text\": input_text})\n",
    "\n",
    "print(result)\n"
   ]
  },
  {
   "cell_type": "code",
   "execution_count": 32,
   "id": "bd6b1fb0",
   "metadata": {},
   "outputs": [],
   "source": [
    "from langchain_core.prompts import ChatPromptTemplate, MessagesPlaceholder\n",
    "\n",
    "# Define a custom prompt to provide instructions and any additional context.\n",
    "# 1) You can add examples into the prompt template to improve extraction quality\n",
    "# 2) Introduce additional parameters to take context into account (e.g., include metadata\n",
    "#    about the document from which the text was extracted.)\n",
    "prompt_template = ChatPromptTemplate.from_messages(\n",
    "    [\n",
    "        (\n",
    "            \"system\",\n",
    "            \"You are an expert extraction algorithm. \"\n",
    "            \"Only extract relevant information from the text. \"\n",
    "            \"If you do not know the value of an attribute asked to extract, \"\n",
    "            \"return null for the attribute's value.\",\n",
    "        ),\n",
    "        # Please see the how-to about improving performance with\n",
    "        # reference examples.\n",
    "        # MessagesPlaceholder('examples'),\n",
    "        (\"human\", \"{text}\"),\n",
    "    ]\n",
    ")"
   ]
  },
  {
   "cell_type": "code",
   "execution_count": 33,
   "id": "290ee3ad",
   "metadata": {},
   "outputs": [],
   "source": [
    "from langchain.chat_models import init_chat_model\n",
    "\n",
    "llm = init_chat_model(\"command-r-plus\", model_provider=\"cohere\")"
   ]
  },
  {
   "cell_type": "code",
   "execution_count": 34,
   "id": "a8cbb1b9",
   "metadata": {},
   "outputs": [],
   "source": [
    "structured_llm = llm.with_structured_output(schema=Person)"
   ]
  },
  {
   "cell_type": "code",
   "execution_count": 35,
   "id": "6b2d8d16",
   "metadata": {},
   "outputs": [
    {
     "data": {
      "text/plain": [
       "Person(name='Alan Smith', hair_color=None, height_in_meters=None, dummy_field='6 feet')"
      ]
     },
     "execution_count": 35,
     "metadata": {},
     "output_type": "execute_result"
    }
   ],
   "source": [
    "text = \"Alan Smith is 6 feet tall and has blond hair.\"\n",
    "prompt = prompt_template.invoke({\"text\": text})\n",
    "structured_llm.invoke(prompt)\n",
    "# prompt"
   ]
  },
  {
   "cell_type": "code",
   "execution_count": 36,
   "id": "784afa09",
   "metadata": {},
   "outputs": [
    {
     "name": "stdout",
     "output_type": "stream",
     "text": [
      "{'name': 'Alan Smith', 'height_in_meters': None, 'dummy_field': 'null'}\n"
     ]
    }
   ],
   "source": [
    "result = structured_llm.invoke(prompt)\n",
    "data = result.model_dump(exclude_unset=True)\n",
    "data.pop(\"dummy_required_field\", None)\n",
    "print(data)\n"
   ]
  },
  {
   "cell_type": "code",
   "execution_count": 37,
   "id": "16e7c5aa",
   "metadata": {},
   "outputs": [],
   "source": [
    "from langchain.output_parsers import PydanticOutputParser\n",
    "from langchain_core.runnables import RunnableLambda\n",
    "\n",
    "parser = PydanticOutputParser(pydantic_object=Person)\n",
    "\n",
    "prompt = ChatPromptTemplate.from_messages([\n",
    "    (\"system\", \"You are an expert information extractor. Extract the following fields from the text. Respond in JSON:\\n{format_instructions}\"),\n",
    "    (\"human\", \"{text}\")\n",
    "]).partial(format_instructions=parser.get_format_instructions())\n",
    "\n",
    "\n",
    "format_prompt = RunnableLambda(lambda x: prompt.format_messages(**x))\n",
    "\n",
    "llm = init_chat_model(\"command-r-plus\", model_provider=\"cohere\")\n",
    "chain = prompt | llm | parser"
   ]
  },
  {
   "cell_type": "code",
   "execution_count": 38,
   "id": "9ee9feb3",
   "metadata": {},
   "outputs": [
    {
     "name": "stdout",
     "output_type": "stream",
     "text": [
      "name='Alice Johnson' hair_color='black' height_in_meters='1.75' dummy_field='dummy'\n"
     ]
    }
   ],
   "source": [
    "# 6. Invoke with sample input\n",
    "input_text = \"Alice Johnson is 1.75 meters tall and has black hair.\"\n",
    "result = chain.invoke({\"text\": input_text})\n",
    "\n",
    "print(result)"
   ]
  },
  {
   "cell_type": "code",
   "execution_count": 43,
   "id": "b92abe98",
   "metadata": {},
   "outputs": [],
   "source": [
    "from pydantic import BaseModel, Field\n",
    "from typing import List, Optional\n",
    "from langchain_core.runnables import RunnableLambda\n",
    "\n",
    "class Data(BaseModel):\n",
    "    people: List[Person]# = Field(..., description=\"List of people\")  # note: no default_factory\n",
    "\n",
    "# Force schema rebuild\n",
    "Data.model_rebuild()\n",
    "\n",
    "prompt = ChatPromptTemplate.from_messages([\n",
    "    (\n",
    "        \"system\", \n",
    "        \"You are an expert extractor. Extract all people mentioned in the input text with their name, hair color, and height (in meters). Don't extract the field dummy_required_field, just set it as text NA \"\n",
    "        \"Return a JSON object with a 'people' field that contains a list of entries. If a field is unknown, use string missing. Format:\\n{format_instructions}\"\n",
    "    ),\n",
    "    (\"human\", \"{text}\")\n",
    "]).partial(format_instructions=parser.get_format_instructions())\n",
    "\n",
    "parser = PydanticOutputParser(pydantic_object=Data)\n",
    "\n",
    "format_prompt = RunnableLambda(lambda x: prompt.format_messages(**x))\n",
    "\n",
    "chain = format_prompt | llm | parser\n"
   ]
  },
  {
   "cell_type": "code",
   "execution_count": 44,
   "id": "9fd5b335",
   "metadata": {},
   "outputs": [
    {
     "data": {
      "text/plain": [
       "Data(people=[Person(name='John Smith', hair_color='black', height_in_meters='1.82', dummy_field='NA'), Person(name='Emily Davis', hair_color='blonde', height_in_meters='1.65', dummy_field='NA')])"
      ]
     },
     "execution_count": 44,
     "metadata": {},
     "output_type": "execute_result"
    }
   ],
   "source": [
    "input_text = \"\"\"\n",
    "John Smith has black hair and is 1.82 meters tall. \n",
    "Emily Davis has blonde hair and is 1.65 meters tall.\n",
    "\"\"\"\n",
    "result = chain.invoke({\"text\": input_text})\n",
    "result\n"
   ]
  },
  {
   "cell_type": "code",
   "execution_count": 45,
   "id": "4c335798",
   "metadata": {},
   "outputs": [
    {
     "data": {
      "text/plain": [
       "Data(people=[Person(name='Jeff', hair_color='black', height_in_meters='1.8288', dummy_field='NA'), Person(name='Anna', hair_color='black', height_in_meters='missing', dummy_field='NA')])"
      ]
     },
     "execution_count": 45,
     "metadata": {},
     "output_type": "execute_result"
    }
   ],
   "source": [
    "input_text = \"\"\"\n",
    " \"My name is Jeff, my hair is black and i am 6 feet tall. Anna has the same color hair as me.\"\n",
    "\"\"\"\n",
    "chain.invoke({\"text\": input_text})"
   ]
  },
  {
   "cell_type": "code",
   "execution_count": 46,
   "id": "a8d65ffd",
   "metadata": {},
   "outputs": [
    {
     "name": "stdout",
     "output_type": "stream",
     "text": [
      "6\n"
     ]
    }
   ],
   "source": [
    "messages = [\n",
    "    {\"role\": \"user\", \"content\": \"2 🦜 2\"},\n",
    "    {\"role\": \"assistant\", \"content\": \"4\"},\n",
    "    {\"role\": \"user\", \"content\": \"2 🦜 3\"},\n",
    "    {\"role\": \"assistant\", \"content\": \"5\"},\n",
    "    {\"role\": \"user\", \"content\": \"3 🦜 4\"},\n",
    "]\n",
    "\n",
    "response = llm.invoke(messages)\n",
    "print(response.content)"
   ]
  },
  {
   "cell_type": "code",
   "execution_count": null,
   "id": "e24de30d",
   "metadata": {},
   "outputs": [
    {
     "name": "stderr",
     "output_type": "stream",
     "text": [
      "C:\\Users\\prach\\AppData\\Local\\Temp\\ipykernel_15156\\1445525034.py:23: LangChainBetaWarning: The function `tool_example_to_messages` is in beta. It is actively being worked on, so the API may change.\n",
      "  messages.extend(tool_example_to_messages(txt, [tool_call], ai_response=ai_response))\n"
     ]
    }
   ],
   "source": [
    "from langchain_core.utils.function_calling import tool_example_to_messages\n",
    "\n",
    "examples = [\n",
    "    (\n",
    "        \"The ocean is vast and blue. It's more than 20,000 feet deep.\",\n",
    "        Data(people=[]),\n",
    "    ),\n",
    "    (\n",
    "        \"Fiona traveled far from France to Spain.\",\n",
    "        Data(people=[Person(name=\"Fiona\", height_in_meters=None, hair_color=None,dummy_field='NA')]),\n",
    "    ),\n",
    "]\n",
    "\n",
    "\n",
    "messages = []\n",
    "\n",
    "for txt, tool_call in examples:\n",
    "    if tool_call.people:\n",
    "        # This final message is optional for some providers\n",
    "        ai_response = \"Detected people.\"\n",
    "    else:\n",
    "        ai_response = \"Detected no people.\"\n",
    "    messages.extend(tool_example_to_messages(txt, [tool_call], ai_response=ai_response))"
   ]
  },
  {
   "cell_type": "code",
   "execution_count": 49,
   "id": "3d77e447",
   "metadata": {},
   "outputs": [
    {
     "name": "stdout",
     "output_type": "stream",
     "text": [
      "================================\u001b[1m Human Message \u001b[0m=================================\n",
      "\n",
      "The ocean is vast and blue. It's more than 20,000 feet deep.\n",
      "==================================\u001b[1m Ai Message \u001b[0m==================================\n",
      "Tool Calls:\n",
      "  Data (fafc1c01-405d-4fb8-8b57-a92c30e8edd0)\n",
      " Call ID: fafc1c01-405d-4fb8-8b57-a92c30e8edd0\n",
      "  Args:\n",
      "    people: []\n",
      "=================================\u001b[1m Tool Message \u001b[0m=================================\n",
      "\n",
      "You have correctly called this tool.\n",
      "==================================\u001b[1m Ai Message \u001b[0m==================================\n",
      "\n",
      "Detected no people.\n",
      "================================\u001b[1m Human Message \u001b[0m=================================\n",
      "\n",
      "Fiona traveled far from France to Spain.\n",
      "==================================\u001b[1m Ai Message \u001b[0m==================================\n",
      "Tool Calls:\n",
      "  Data (837968e6-9f33-4afe-9658-b60e77b19fb4)\n",
      " Call ID: 837968e6-9f33-4afe-9658-b60e77b19fb4\n",
      "  Args:\n",
      "    people: [{'name': 'Fiona', 'hair_color': None, 'height_in_meters': None, 'dummy_field': 'NA'}]\n",
      "=================================\u001b[1m Tool Message \u001b[0m=================================\n",
      "\n",
      "You have correctly called this tool.\n",
      "==================================\u001b[1m Ai Message \u001b[0m==================================\n",
      "\n",
      "Detected people.\n"
     ]
    }
   ],
   "source": [
    "for message in messages:\n",
    "    message.pretty_print()"
   ]
  },
  {
   "cell_type": "code",
   "execution_count": 52,
   "id": "4cb76532",
   "metadata": {},
   "outputs": [
    {
     "data": {
      "text/plain": [
       "Data(people=[])"
      ]
     },
     "execution_count": 52,
     "metadata": {},
     "output_type": "execute_result"
    }
   ],
   "source": [
    "message_no_extraction = {\n",
    "    \"role\": \"user\",\n",
    "    \"content\": \"The solar system is large, but earth has only 1 moon.\",\n",
    "}\n",
    "\n",
    "chain.invoke({\"text\": message_no_extraction})\n",
    "\n",
    "# structured_llm = llm.with_structured_output(schema=Data)\n",
    "# structured_llm.invoke([message_no_extraction])"
   ]
  },
  {
   "cell_type": "code",
   "execution_count": 54,
   "id": "eff23174",
   "metadata": {},
   "outputs": [
    {
     "data": {
      "text/plain": [
       "Data(people=[Person(name='Fiona', hair_color='missing', height_in_meters='missing', dummy_field='NA')])"
      ]
     },
     "execution_count": 54,
     "metadata": {},
     "output_type": "execute_result"
    }
   ],
   "source": [
    "chain.invoke({\"text\":messages + [message_no_extraction]})"
   ]
  },
  {
   "cell_type": "code",
   "execution_count": null,
   "id": "fba74085",
   "metadata": {},
   "outputs": [],
   "source": []
  }
 ],
 "metadata": {
  "kernelspec": {
   "display_name": ".venv",
   "language": "python",
   "name": "python3"
  },
  "language_info": {
   "codemirror_mode": {
    "name": "ipython",
    "version": 3
   },
   "file_extension": ".py",
   "mimetype": "text/x-python",
   "name": "python",
   "nbconvert_exporter": "python",
   "pygments_lexer": "ipython3",
   "version": "3.11.9"
  }
 },
 "nbformat": 4,
 "nbformat_minor": 5
}
